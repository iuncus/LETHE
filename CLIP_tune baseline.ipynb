{
 "cells": [
  {
   "cell_type": "code",
   "execution_count": null,
   "metadata": {},
   "outputs": [],
   "source": [
    "import gc\n",
    "import os\n",
    "import time\n",
    "# import argparse\n",
    "import torch\n",
    "import torch.nn.functional as F\n",
    "from glob import glob\n",
    "from torch.utils.data import DataLoader\n",
    "from tqdm import trange\n",
    "from collections import OrderedDict\n",
    "\n",
    "# from data import AblatingDataset\n",
    "\n",
    "import utils"
   ]
  },
  {
   "cell_type": "code",
   "execution_count": 4,
   "metadata": {},
   "outputs": [],
   "source": [
    "def get_text_embeddings(text_encoder, tokenized_text):\n",
    "    # ref: https://github.com/huggingface/diffusers/blob/main/src/diffusers/pipelines/stable_diffusion/pipeline_stable_diffusion.py#L377\n",
    "\n",
    "    device = text_encoder.device\n",
    "    weight_dtype = text_encoder.dtype\n",
    "\n",
    "    text_embedding = text_encoder(tokenized_text.to(device))[0].to(weight_dtype)\n",
    "    return text_embedding\n",
    "\n",
    "def get_target_noise(scheduler, noise, latents=None, timesteps=None):\n",
    "    if scheduler.config.prediction_type == \"epsilon\":\n",
    "        target = noise\n",
    "    elif scheduler.config.prediction_type == \"v_prediction\":\n",
    "        target = scheduler.get_velocity(latents, noise, timesteps)\n",
    "    \n",
    "    return target"
   ]
  },
  {
   "cell_type": "code",
   "execution_count": null,
   "metadata": {},
   "outputs": [],
   "source": [
    "from PIL import Image\n",
    "from torch.utils.data import Dataset\n",
    "\n",
    "class AblatingDataset(Dataset):\n",
    "    def __init__(\n",
    "        self,\n",
    "        data_root,\n",
    "        tokenizer,\n",
    "        placeholder_token,\n",
    "        vae,\n",
    "        # concept_type:str=\"object\",\n",
    "        size=512,\n",
    "        interpolation=\"bicubic\",\n",
    "        center_crop=False,\n",
    "        device=\"cuda:0\",\n",
    "        # batch_size:int=0,\n",
    "        # is_zero_shot=False\n",
    "    ) -> None:\n",
    "        super().__init__()\n",
    "\n",
    "        self.prompt = placeholder_token\n",
    "        self.tokenizer = tokenizer\n",
    "        self.image_embeddings = []\n",
    "        \n",
    "        # if not is_zero_shot:\n",
    "        scaling_factor = 0.18215\n",
    "        for f in glob(f\"{data_root}/*\"):\n",
    "            if \".png\" in f or \".jpg\" in f or \".jpeg\" in f:\n",
    "                image = utils.preprocess(f, center_crop, size, interpolation).to(device)\n",
    "                # image = Image.open(f).convert(\"RGB\")\n",
    "                with torch.no_grad():\n",
    "                    latents = vae.encode(image).latent_dist.sample().detach().cpu() * scaling_factor\n",
    "                self.image_embeddings.append(latents[0])\n",
    "        # else:\n",
    "        #     for _ in range(batch_size):\n",
    "        #         self.image_embeddings.append(torch.rand((1, 4, 64, 64)))\n",
    "        self._length = len(self.image_embeddings)\n",
    "    \n",
    "    def __len__(self):\n",
    "        return self._length\n",
    "\n",
    "    def __getitem__(self, index):\n",
    "        # text = random.choice(self.templates).format(self.prompt)\n",
    "        text = \"red\"\n",
    "        tokenized = self.tokenizer(\n",
    "            text,\n",
    "            padding=\"max_length\",\n",
    "            truncation=True,\n",
    "            max_length=self.tokenizer.model_max_length,\n",
    "            return_tensors=\"pt\",\n",
    "        ).input_ids[0]\n",
    "\n",
    "        return tokenized, self.image_embeddings[index]\n",
    "\n"
   ]
  },
  {
   "cell_type": "code",
   "execution_count": null,
   "metadata": {},
   "outputs": [],
   "source": [
    "\n",
    "def train():\n",
    "    \n",
    "    target_prompt = \"red\"\n",
    "\n",
    "    device = \"cuda\"\n",
    "    dataset_path = \"ds/not_red\"\n",
    "    # dataset_path = \"ds/cyan\"\n",
    "\n",
    "    save_path = \"R_maximize_Cyan\"\n",
    "    batch_size = 1\n",
    "    num_epochs = 50\n",
    "    \n",
    "    \n",
    "    tokenizer, text_encoder, vae, unet, scheduler = utils.load_models_from_local_optioned_path(\n",
    "        text_encoder_path=\"openai/clip-vit-large-patch14\",\n",
    "        unet_path=\"models/sd-15/unet\",\n",
    "        vae_path=\"models/sd-15/vae\",\n",
    "        tokenizer_version=\"openai/clip-vit-large-patch14\",\n",
    "    )\n",
    "\n",
    "    unet.to(device)\n",
    "    text_encoder.to(device)\n",
    "    vae.to(device)\n",
    "    vae.eval()\n",
    "    \n",
    "    # freeze unet parameters\n",
    "    for param in unet.parameters():\n",
    "        param.requires_grad = False\n",
    "\n",
    "    \n",
    "    text_encoder = utils.freeze_and_unfreeze_text_encoder(text_encoder, method=\"mlp-final-attn\")\n",
    "\n",
    "    # optimizer setting\n",
    "    # optimizer = utils.get_optimizer(\n",
    "    #     text_encoder.parameters(),\n",
    "    #     config.optimizer_name,\n",
    "    #     config.lr,\n",
    "    #     (config.beta1, config.beta2),\n",
    "    #     config.weight_decay,\n",
    "    #     config.eps,\n",
    "    # )\n",
    "    optimizer = torch.optim.Adam(text_encoder.parameters(), lr = 1e-5)\n",
    "\n",
    "    train_dataset = AblatingDataset(\n",
    "        data_root=dataset_path,\n",
    "        tokenizer=tokenizer,\n",
    "        size=512,\n",
    "        # concept_type=config.concept_type,\n",
    "        placeholder_token=target_prompt,\n",
    "        center_crop=False,\n",
    "        vae=vae,\n",
    "        device=device,\n",
    "        batch_size=batch_size,\n",
    "        # is_zero_shot=config.is_zero_shot\n",
    "    )\n",
    "\n",
    "\n",
    "    train_dataloader = DataLoader(train_dataset, batch_size=batch_size, shuffle=True, num_workers=0)\n",
    "\n",
    "    del vae\n",
    "    gc.collect()\n",
    "    torch.cuda.empty_cache()\n",
    "    \n",
    "    history = {\"loss\": []}\n",
    "\n",
    "    os.makedirs(save_path, exist_ok=True)\n",
    "    start = time.perf_counter()\n",
    "\n",
    "\n",
    "\n",
    "    pbar = trange(0, num_epochs, desc=\"Epoch\")\n",
    "    for epoch in pbar:\n",
    "\n",
    "        loss_avg = 0\n",
    "        cnt = 0\n",
    "        text_encoder.train()\n",
    "        print(f\"Starting epoch {epoch}\")\n",
    "        for step, (tokenized, image_embedding) in enumerate(train_dataloader):\n",
    "            print(f\"Processing step {step}\")\n",
    "            text_embedding = get_text_embeddings(\n",
    "                text_encoder=text_encoder, \n",
    "                tokenized_text=tokenized\n",
    "            )\n",
    "            \n",
    "            # bs, 4, 64, 64\n",
    "            # if zero shot, image_embedding is random noise\n",
    "            latents = image_embedding.to(device)\n",
    "\n",
    "            noise = torch.randn_like(latents).to(device)\n",
    "            bsz = latents.shape[0]\n",
    "            timesteps = torch.randint(0, scheduler.config.num_train_timesteps, (bsz,), device=latents.device)\n",
    "            timesteps = timesteps.long()\n",
    "            noisy_latents = scheduler.add_noise(latents, noise, timesteps)\n",
    "            \n",
    "            model_pred = unet(noisy_latents, timesteps, text_embedding).sample\n",
    "\n",
    "            target = get_target_noise(scheduler=scheduler, noise=noise, latents=latents, timesteps=timesteps)\n",
    "            \n",
    "            print(f\"Device of text_embedding: {text_embedding.device}\")\n",
    "            print(f\"Device of latents: {latents.device}\")\n",
    "            print(f\"Device of noise: {noise.device}\")\n",
    "\n",
    "            # reversed Textual Inversion, loss = F.mse_loss(model_pred.float(), target.float(), reduction=\"mean\")\n",
    "            loss = -F.mse_loss(model_pred.float(), target.float(), reduction=\"mean\") \n",
    "\n",
    "            optimizer.zero_grad()\n",
    "            loss.backward()\n",
    "            optimizer.step()\n",
    "            loss_avg += loss.detach().item()\n",
    "            cnt += step\n",
    "            \n",
    "            history[\"loss\"].append(loss.detach().item())\n",
    "        pbar.set_postfix(OrderedDict(loss=loss_avg / (cnt + 1e-9)))\n",
    "        text_encoder.eval()\n",
    "        text_encoder.save_pretrained(f\"{save_path}/epoch-{epoch}\")\n",
    "    \n",
    "    end = time.perf_counter()\n",
    "    print(f\"Time : {end - start}\")\n",
    "\n",
    "    utils.plot_loss(history, save_path)\n"
   ]
  },
  {
   "cell_type": "code",
   "execution_count": 7,
   "metadata": {},
   "outputs": [
    {
     "name": "stderr",
     "output_type": "stream",
     "text": [
      "d:\\AI_project\\anaconda3\\envs\\diffusion\\lib\\site-packages\\transformers\\tokenization_utils_base.py:1601: FutureWarning: `clean_up_tokenization_spaces` was not set. It will be set to `True` by default. This behavior will be depracted in transformers v4.45, and will be then set to `False` by default. For more details check this issue: https://github.com/huggingface/transformers/issues/31884\n",
      "  warnings.warn(\n"
     ]
    },
    {
     "name": "stdout",
     "output_type": "stream",
     "text": [
      "text_model.encoder.layers.0.mlp.fc1\n",
      "text_model.encoder.layers.0.mlp.fc2\n",
      "text_model.encoder.layers.1.mlp.fc1\n",
      "text_model.encoder.layers.1.mlp.fc2\n",
      "text_model.encoder.layers.2.mlp.fc1\n",
      "text_model.encoder.layers.2.mlp.fc2\n",
      "text_model.encoder.layers.3.mlp.fc1\n",
      "text_model.encoder.layers.3.mlp.fc2\n",
      "text_model.encoder.layers.4.mlp.fc1\n",
      "text_model.encoder.layers.4.mlp.fc2\n",
      "text_model.encoder.layers.5.mlp.fc1\n",
      "text_model.encoder.layers.5.mlp.fc2\n",
      "text_model.encoder.layers.6.mlp.fc1\n",
      "text_model.encoder.layers.6.mlp.fc2\n",
      "text_model.encoder.layers.7.mlp.fc1\n",
      "text_model.encoder.layers.7.mlp.fc2\n",
      "text_model.encoder.layers.8.mlp.fc1\n",
      "text_model.encoder.layers.8.mlp.fc2\n",
      "text_model.encoder.layers.9.mlp.fc1\n",
      "text_model.encoder.layers.9.mlp.fc2\n",
      "text_model.encoder.layers.10.mlp.fc1\n",
      "text_model.encoder.layers.10.mlp.fc2\n",
      "text_model.encoder.layers.11.self_attn.k_proj\n",
      "text_model.encoder.layers.11.self_attn.v_proj\n",
      "text_model.encoder.layers.11.self_attn.q_proj\n",
      "text_model.encoder.layers.11.self_attn.out_proj\n",
      "text_model.encoder.layers.11.mlp.fc1\n",
      "text_model.encoder.layers.11.mlp.fc2\n"
     ]
    },
    {
     "name": "stderr",
     "output_type": "stream",
     "text": [
      "d:\\AI_project\\anaconda3\\envs\\diffusion\\lib\\site-packages\\diffusers\\models\\attention_processor.py:2216: UserWarning: 1Torch was not compiled with flash attention. (Triggered internally at C:\\actions-runner\\_work\\pytorch\\pytorch\\builder\\windows\\pytorch\\aten\\src\\ATen\\native\\transformers\\cuda\\sdp_utils.cpp:555.)\n",
      "  hidden_states = F.scaled_dot_product_attention(\n",
      "Epoch:   0%|          | 0/50 [00:00<?, ?it/s]"
     ]
    },
    {
     "name": "stdout",
     "output_type": "stream",
     "text": [
      "Starting epoch 0\n",
      "Processing step 0\n",
      "Device of text_embedding: cuda:0\n",
      "Device of latents: cuda:0\n",
      "Device of noise: cuda:0\n"
     ]
    },
    {
     "name": "stderr",
     "output_type": "stream",
     "text": [
      "Epoch:   2%|▏         | 1/50 [00:01<01:28,  1.81s/it, loss=-2.12e+6]"
     ]
    },
    {
     "name": "stdout",
     "output_type": "stream",
     "text": [
      "Starting epoch 1\n",
      "Processing step 0\n",
      "Device of text_embedding: cuda:0\n",
      "Device of latents: cuda:0\n",
      "Device of noise: cuda:0\n"
     ]
    },
    {
     "name": "stderr",
     "output_type": "stream",
     "text": [
      "Epoch:   4%|▍         | 2/50 [00:02<00:57,  1.21s/it, loss=-5.22e+6]"
     ]
    },
    {
     "name": "stdout",
     "output_type": "stream",
     "text": [
      "Starting epoch 2\n",
      "Processing step 0\n",
      "Device of text_embedding: cuda:0\n",
      "Device of latents: cuda:0\n",
      "Device of noise: cuda:0\n"
     ]
    },
    {
     "name": "stderr",
     "output_type": "stream",
     "text": [
      "Epoch:   6%|▌         | 3/50 [00:03<00:47,  1.01s/it, loss=-1.07e+6]"
     ]
    },
    {
     "name": "stdout",
     "output_type": "stream",
     "text": [
      "Starting epoch 3\n",
      "Processing step 0\n",
      "Device of text_embedding: cuda:0\n",
      "Device of latents: cuda:0\n",
      "Device of noise: cuda:0\n"
     ]
    },
    {
     "name": "stderr",
     "output_type": "stream",
     "text": [
      "Epoch:   8%|▊         | 4/50 [00:04<00:42,  1.08it/s, loss=-4.28e+5]"
     ]
    },
    {
     "name": "stdout",
     "output_type": "stream",
     "text": [
      "Starting epoch 4\n",
      "Processing step 0\n",
      "Device of text_embedding: cuda:0\n",
      "Device of latents: cuda:0\n",
      "Device of noise: cuda:0\n"
     ]
    },
    {
     "name": "stderr",
     "output_type": "stream",
     "text": [
      "Epoch:  10%|█         | 5/50 [00:04<00:39,  1.13it/s, loss=-5.55e+6]"
     ]
    },
    {
     "name": "stdout",
     "output_type": "stream",
     "text": [
      "Starting epoch 5\n",
      "Processing step 0\n",
      "Device of text_embedding: cuda:0\n",
      "Device of latents: cuda:0\n",
      "Device of noise: cuda:0\n"
     ]
    },
    {
     "name": "stderr",
     "output_type": "stream",
     "text": [
      "Epoch:  12%|█▏        | 6/50 [00:05<00:38,  1.14it/s, loss=-1.28e+6]"
     ]
    },
    {
     "name": "stdout",
     "output_type": "stream",
     "text": [
      "Starting epoch 6\n",
      "Processing step 0\n",
      "Device of text_embedding: cuda:0\n",
      "Device of latents: cuda:0\n",
      "Device of noise: cuda:0\n"
     ]
    },
    {
     "name": "stderr",
     "output_type": "stream",
     "text": [
      "Epoch:  14%|█▍        | 7/50 [00:06<00:38,  1.12it/s, loss=-4.68e+5]"
     ]
    },
    {
     "name": "stdout",
     "output_type": "stream",
     "text": [
      "Starting epoch 7\n",
      "Processing step 0\n",
      "Device of text_embedding: cuda:0\n",
      "Device of latents: cuda:0\n",
      "Device of noise: cuda:0\n"
     ]
    },
    {
     "name": "stderr",
     "output_type": "stream",
     "text": [
      "Epoch:  16%|█▌        | 8/50 [00:07<00:35,  1.18it/s, loss=-1.2e+6] "
     ]
    },
    {
     "name": "stdout",
     "output_type": "stream",
     "text": [
      "Starting epoch 8\n",
      "Processing step 0\n",
      "Device of text_embedding: cuda:0\n",
      "Device of latents: cuda:0\n",
      "Device of noise: cuda:0\n"
     ]
    },
    {
     "name": "stderr",
     "output_type": "stream",
     "text": [
      "Epoch:  18%|█▊        | 9/50 [00:08<00:31,  1.30it/s, loss=-8.48e+5]"
     ]
    },
    {
     "name": "stdout",
     "output_type": "stream",
     "text": [
      "Starting epoch 9\n",
      "Processing step 0\n",
      "Device of text_embedding: cuda:0\n",
      "Device of latents: cuda:0\n",
      "Device of noise: cuda:0\n"
     ]
    },
    {
     "name": "stderr",
     "output_type": "stream",
     "text": [
      "Epoch:  20%|██        | 10/50 [00:08<00:29,  1.37it/s, loss=-8.77e+5]"
     ]
    },
    {
     "name": "stdout",
     "output_type": "stream",
     "text": [
      "Starting epoch 10\n",
      "Processing step 0\n",
      "Device of text_embedding: cuda:0\n",
      "Device of latents: cuda:0\n",
      "Device of noise: cuda:0\n"
     ]
    },
    {
     "name": "stderr",
     "output_type": "stream",
     "text": [
      "Epoch:  22%|██▏       | 11/50 [00:09<00:26,  1.47it/s, loss=-4.44e+6]"
     ]
    },
    {
     "name": "stdout",
     "output_type": "stream",
     "text": [
      "Starting epoch 11\n",
      "Processing step 0\n",
      "Device of text_embedding: cuda:0\n",
      "Device of latents: cuda:0\n",
      "Device of noise: cuda:0\n"
     ]
    },
    {
     "name": "stderr",
     "output_type": "stream",
     "text": [
      "Epoch:  24%|██▍       | 12/50 [00:09<00:25,  1.52it/s, loss=-1.38e+7]"
     ]
    },
    {
     "name": "stdout",
     "output_type": "stream",
     "text": [
      "Starting epoch 12\n",
      "Processing step 0\n",
      "Device of text_embedding: cuda:0\n",
      "Device of latents: cuda:0\n",
      "Device of noise: cuda:0\n"
     ]
    },
    {
     "name": "stderr",
     "output_type": "stream",
     "text": [
      "Epoch:  26%|██▌       | 13/50 [00:10<00:23,  1.57it/s, loss=-8.01e+5]"
     ]
    },
    {
     "name": "stdout",
     "output_type": "stream",
     "text": [
      "Starting epoch 13\n",
      "Processing step 0\n",
      "Device of text_embedding: cuda:0\n",
      "Device of latents: cuda:0\n",
      "Device of noise: cuda:0\n"
     ]
    },
    {
     "name": "stderr",
     "output_type": "stream",
     "text": [
      "Epoch:  28%|██▊       | 14/50 [00:11<00:22,  1.61it/s, loss=-2.41e+6]"
     ]
    },
    {
     "name": "stdout",
     "output_type": "stream",
     "text": [
      "Starting epoch 14\n",
      "Processing step 0\n",
      "Device of text_embedding: cuda:0\n",
      "Device of latents: cuda:0\n",
      "Device of noise: cuda:0\n"
     ]
    },
    {
     "name": "stderr",
     "output_type": "stream",
     "text": [
      "Epoch:  30%|███       | 15/50 [00:11<00:21,  1.64it/s, loss=-9.81e+5]"
     ]
    },
    {
     "name": "stdout",
     "output_type": "stream",
     "text": [
      "Starting epoch 15\n",
      "Processing step 0\n",
      "Device of text_embedding: cuda:0\n",
      "Device of latents: cuda:0\n",
      "Device of noise: cuda:0\n"
     ]
    },
    {
     "name": "stderr",
     "output_type": "stream",
     "text": [
      "Epoch:  32%|███▏      | 16/50 [00:12<00:20,  1.66it/s, loss=-2.14e+6]"
     ]
    },
    {
     "name": "stdout",
     "output_type": "stream",
     "text": [
      "Starting epoch 16\n",
      "Processing step 0\n",
      "Device of text_embedding: cuda:0\n",
      "Device of latents: cuda:0\n",
      "Device of noise: cuda:0\n"
     ]
    },
    {
     "name": "stderr",
     "output_type": "stream",
     "text": [
      "Epoch:  34%|███▍      | 17/50 [00:12<00:19,  1.67it/s, loss=-7.98e+6]"
     ]
    },
    {
     "name": "stdout",
     "output_type": "stream",
     "text": [
      "Starting epoch 17\n",
      "Processing step 0\n",
      "Device of text_embedding: cuda:0\n",
      "Device of latents: cuda:0\n",
      "Device of noise: cuda:0\n"
     ]
    },
    {
     "name": "stderr",
     "output_type": "stream",
     "text": [
      "Epoch:  36%|███▌      | 18/50 [00:13<00:18,  1.69it/s, loss=-2.59e+6]"
     ]
    },
    {
     "name": "stdout",
     "output_type": "stream",
     "text": [
      "Starting epoch 18\n",
      "Processing step 0\n",
      "Device of text_embedding: cuda:0\n",
      "Device of latents: cuda:0\n",
      "Device of noise: cuda:0\n"
     ]
    },
    {
     "name": "stderr",
     "output_type": "stream",
     "text": [
      "Epoch:  38%|███▊      | 19/50 [00:14<00:18,  1.64it/s, loss=-5.2e+6] "
     ]
    },
    {
     "name": "stdout",
     "output_type": "stream",
     "text": [
      "Starting epoch 19\n",
      "Processing step 0\n",
      "Device of text_embedding: cuda:0\n",
      "Device of latents: cuda:0\n",
      "Device of noise: cuda:0\n"
     ]
    },
    {
     "name": "stderr",
     "output_type": "stream",
     "text": [
      "Epoch:  40%|████      | 20/50 [00:14<00:18,  1.65it/s, loss=-1.07e+7]"
     ]
    },
    {
     "name": "stdout",
     "output_type": "stream",
     "text": [
      "Starting epoch 20\n",
      "Processing step 0\n",
      "Device of text_embedding: cuda:0\n",
      "Device of latents: cuda:0\n",
      "Device of noise: cuda:0\n"
     ]
    },
    {
     "name": "stderr",
     "output_type": "stream",
     "text": [
      "Epoch:  42%|████▏     | 21/50 [00:15<00:17,  1.66it/s, loss=-1.66e+7]"
     ]
    },
    {
     "name": "stdout",
     "output_type": "stream",
     "text": [
      "Starting epoch 21\n",
      "Processing step 0\n",
      "Device of text_embedding: cuda:0\n",
      "Device of latents: cuda:0\n",
      "Device of noise: cuda:0\n"
     ]
    },
    {
     "name": "stderr",
     "output_type": "stream",
     "text": [
      "Epoch:  44%|████▍     | 22/50 [00:15<00:16,  1.67it/s, loss=-3.44e+7]"
     ]
    },
    {
     "name": "stdout",
     "output_type": "stream",
     "text": [
      "Starting epoch 22\n",
      "Processing step 0\n",
      "Device of text_embedding: cuda:0\n",
      "Device of latents: cuda:0\n",
      "Device of noise: cuda:0\n"
     ]
    },
    {
     "name": "stderr",
     "output_type": "stream",
     "text": [
      "Epoch:  46%|████▌     | 23/50 [00:16<00:16,  1.68it/s, loss=-3.58e+7]"
     ]
    },
    {
     "name": "stdout",
     "output_type": "stream",
     "text": [
      "Starting epoch 23\n",
      "Processing step 0\n",
      "Device of text_embedding: cuda:0\n",
      "Device of latents: cuda:0\n",
      "Device of noise: cuda:0\n"
     ]
    },
    {
     "name": "stderr",
     "output_type": "stream",
     "text": [
      "Epoch:  48%|████▊     | 24/50 [00:17<00:15,  1.68it/s, loss=-7.64e+7]"
     ]
    },
    {
     "name": "stdout",
     "output_type": "stream",
     "text": [
      "Starting epoch 24\n",
      "Processing step 0\n",
      "Device of text_embedding: cuda:0\n",
      "Device of latents: cuda:0\n",
      "Device of noise: cuda:0\n"
     ]
    },
    {
     "name": "stderr",
     "output_type": "stream",
     "text": [
      "Epoch:  50%|█████     | 25/50 [00:17<00:14,  1.67it/s, loss=-1.95e+7]"
     ]
    },
    {
     "name": "stdout",
     "output_type": "stream",
     "text": [
      "Starting epoch 25\n",
      "Processing step 0\n",
      "Device of text_embedding: cuda:0\n",
      "Device of latents: cuda:0\n",
      "Device of noise: cuda:0\n"
     ]
    },
    {
     "name": "stderr",
     "output_type": "stream",
     "text": [
      "Epoch:  52%|█████▏    | 26/50 [00:18<00:14,  1.68it/s, loss=-2.68e+7]"
     ]
    },
    {
     "name": "stdout",
     "output_type": "stream",
     "text": [
      "Starting epoch 26\n",
      "Processing step 0\n",
      "Device of text_embedding: cuda:0\n",
      "Device of latents: cuda:0\n",
      "Device of noise: cuda:0\n"
     ]
    },
    {
     "name": "stderr",
     "output_type": "stream",
     "text": [
      "Epoch:  54%|█████▍    | 27/50 [00:18<00:13,  1.68it/s, loss=-1.1e+7] "
     ]
    },
    {
     "name": "stdout",
     "output_type": "stream",
     "text": [
      "Starting epoch 27\n",
      "Processing step 0\n",
      "Device of text_embedding: cuda:0\n",
      "Device of latents: cuda:0\n",
      "Device of noise: cuda:0\n"
     ]
    },
    {
     "name": "stderr",
     "output_type": "stream",
     "text": [
      "Epoch:  56%|█████▌    | 28/50 [00:19<00:13,  1.68it/s, loss=-1.72e+7]"
     ]
    },
    {
     "name": "stdout",
     "output_type": "stream",
     "text": [
      "Starting epoch 28\n",
      "Processing step 0\n",
      "Device of text_embedding: cuda:0\n",
      "Device of latents: cuda:0\n",
      "Device of noise: cuda:0\n"
     ]
    },
    {
     "name": "stderr",
     "output_type": "stream",
     "text": [
      "Epoch:  58%|█████▊    | 29/50 [00:20<00:13,  1.61it/s, loss=-2.53e+7]"
     ]
    },
    {
     "name": "stdout",
     "output_type": "stream",
     "text": [
      "Starting epoch 29\n",
      "Processing step 0\n",
      "Device of text_embedding: cuda:0\n",
      "Device of latents: cuda:0\n",
      "Device of noise: cuda:0\n"
     ]
    },
    {
     "name": "stderr",
     "output_type": "stream",
     "text": [
      "Epoch:  60%|██████    | 30/50 [00:20<00:12,  1.60it/s, loss=-8.66e+7]"
     ]
    },
    {
     "name": "stdout",
     "output_type": "stream",
     "text": [
      "Starting epoch 30\n",
      "Processing step 0\n",
      "Device of text_embedding: cuda:0\n",
      "Device of latents: cuda:0\n",
      "Device of noise: cuda:0\n"
     ]
    },
    {
     "name": "stderr",
     "output_type": "stream",
     "text": [
      "Epoch:  62%|██████▏   | 31/50 [00:21<00:11,  1.63it/s, loss=-8.2e+7] "
     ]
    },
    {
     "name": "stdout",
     "output_type": "stream",
     "text": [
      "Starting epoch 31\n",
      "Processing step 0\n",
      "Device of text_embedding: cuda:0\n",
      "Device of latents: cuda:0\n",
      "Device of noise: cuda:0\n"
     ]
    },
    {
     "name": "stderr",
     "output_type": "stream",
     "text": [
      "Epoch:  64%|██████▍   | 32/50 [00:21<00:10,  1.66it/s, loss=-1.9e+7]"
     ]
    },
    {
     "name": "stdout",
     "output_type": "stream",
     "text": [
      "Starting epoch 32\n",
      "Processing step 0\n",
      "Device of text_embedding: cuda:0\n",
      "Device of latents: cuda:0\n",
      "Device of noise: cuda:0\n"
     ]
    },
    {
     "name": "stderr",
     "output_type": "stream",
     "text": [
      "Epoch:  66%|██████▌   | 33/50 [00:22<00:10,  1.68it/s, loss=-1.66e+8]"
     ]
    },
    {
     "name": "stdout",
     "output_type": "stream",
     "text": [
      "Starting epoch 33\n",
      "Processing step 0\n",
      "Device of text_embedding: cuda:0\n",
      "Device of latents: cuda:0\n",
      "Device of noise: cuda:0\n"
     ]
    },
    {
     "name": "stderr",
     "output_type": "stream",
     "text": [
      "Epoch:  68%|██████▊   | 34/50 [00:23<00:09,  1.68it/s, loss=-2.68e+7]"
     ]
    },
    {
     "name": "stdout",
     "output_type": "stream",
     "text": [
      "Starting epoch 34\n",
      "Processing step 0\n",
      "Device of text_embedding: cuda:0\n",
      "Device of latents: cuda:0\n",
      "Device of noise: cuda:0\n"
     ]
    },
    {
     "name": "stderr",
     "output_type": "stream",
     "text": [
      "Epoch:  70%|███████   | 35/50 [00:23<00:08,  1.69it/s, loss=-1.94e+8]"
     ]
    },
    {
     "name": "stdout",
     "output_type": "stream",
     "text": [
      "Starting epoch 35\n",
      "Processing step 0\n",
      "Device of text_embedding: cuda:0\n",
      "Device of latents: cuda:0\n",
      "Device of noise: cuda:0\n"
     ]
    },
    {
     "name": "stderr",
     "output_type": "stream",
     "text": [
      "Epoch:  72%|███████▏  | 36/50 [00:24<00:08,  1.70it/s, loss=-1.07e+8]"
     ]
    },
    {
     "name": "stdout",
     "output_type": "stream",
     "text": [
      "Starting epoch 36\n",
      "Processing step 0\n",
      "Device of text_embedding: cuda:0\n",
      "Device of latents: cuda:0\n",
      "Device of noise: cuda:0\n"
     ]
    },
    {
     "name": "stderr",
     "output_type": "stream",
     "text": [
      "Epoch:  74%|███████▍  | 37/50 [00:24<00:07,  1.65it/s, loss=-1.08e+8]"
     ]
    },
    {
     "name": "stdout",
     "output_type": "stream",
     "text": [
      "Starting epoch 37\n",
      "Processing step 0\n",
      "Device of text_embedding: cuda:0\n",
      "Device of latents: cuda:0\n",
      "Device of noise: cuda:0\n"
     ]
    },
    {
     "name": "stderr",
     "output_type": "stream",
     "text": [
      "Epoch:  76%|███████▌  | 38/50 [00:25<00:07,  1.67it/s, loss=-8.33e+7]"
     ]
    },
    {
     "name": "stdout",
     "output_type": "stream",
     "text": [
      "Starting epoch 38\n",
      "Processing step 0\n",
      "Device of text_embedding: cuda:0\n",
      "Device of latents: cuda:0\n",
      "Device of noise: cuda:0\n"
     ]
    },
    {
     "name": "stderr",
     "output_type": "stream",
     "text": [
      "Epoch:  78%|███████▊  | 39/50 [00:26<00:06,  1.68it/s, loss=-2.21e+7]"
     ]
    },
    {
     "name": "stdout",
     "output_type": "stream",
     "text": [
      "Starting epoch 39\n",
      "Processing step 0\n",
      "Device of text_embedding: cuda:0\n",
      "Device of latents: cuda:0\n",
      "Device of noise: cuda:0\n"
     ]
    },
    {
     "name": "stderr",
     "output_type": "stream",
     "text": [
      "Epoch:  80%|████████  | 40/50 [00:26<00:05,  1.69it/s, loss=-1.04e+7]"
     ]
    },
    {
     "name": "stdout",
     "output_type": "stream",
     "text": [
      "Starting epoch 40\n",
      "Processing step 0\n",
      "Device of text_embedding: cuda:0\n",
      "Device of latents: cuda:0\n",
      "Device of noise: cuda:0\n"
     ]
    },
    {
     "name": "stderr",
     "output_type": "stream",
     "text": [
      "Epoch:  82%|████████▏ | 41/50 [00:27<00:05,  1.70it/s, loss=-2.29e+8]"
     ]
    },
    {
     "name": "stdout",
     "output_type": "stream",
     "text": [
      "Starting epoch 41\n",
      "Processing step 0\n",
      "Device of text_embedding: cuda:0\n",
      "Device of latents: cuda:0\n",
      "Device of noise: cuda:0\n"
     ]
    },
    {
     "name": "stderr",
     "output_type": "stream",
     "text": [
      "Epoch:  84%|████████▍ | 42/50 [00:27<00:04,  1.70it/s, loss=-5.14e+7]"
     ]
    },
    {
     "name": "stdout",
     "output_type": "stream",
     "text": [
      "Starting epoch 42\n",
      "Processing step 0\n",
      "Device of text_embedding: cuda:0\n",
      "Device of latents: cuda:0\n",
      "Device of noise: cuda:0\n"
     ]
    },
    {
     "name": "stderr",
     "output_type": "stream",
     "text": [
      "Epoch:  86%|████████▌ | 43/50 [00:28<00:04,  1.71it/s, loss=-3.27e+8]"
     ]
    },
    {
     "name": "stdout",
     "output_type": "stream",
     "text": [
      "Starting epoch 43\n",
      "Processing step 0\n",
      "Device of text_embedding: cuda:0\n",
      "Device of latents: cuda:0\n",
      "Device of noise: cuda:0\n"
     ]
    },
    {
     "name": "stderr",
     "output_type": "stream",
     "text": [
      "Epoch:  88%|████████▊ | 44/50 [00:28<00:03,  1.70it/s, loss=-4.61e+8]"
     ]
    },
    {
     "name": "stdout",
     "output_type": "stream",
     "text": [
      "Starting epoch 44\n",
      "Processing step 0\n",
      "Device of text_embedding: cuda:0\n",
      "Device of latents: cuda:0\n",
      "Device of noise: cuda:0\n"
     ]
    },
    {
     "name": "stderr",
     "output_type": "stream",
     "text": [
      "Epoch:  90%|█████████ | 45/50 [00:29<00:02,  1.68it/s, loss=-1.53e+8]"
     ]
    },
    {
     "name": "stdout",
     "output_type": "stream",
     "text": [
      "Starting epoch 45\n",
      "Processing step 0\n",
      "Device of text_embedding: cuda:0\n",
      "Device of latents: cuda:0\n",
      "Device of noise: cuda:0\n"
     ]
    },
    {
     "name": "stderr",
     "output_type": "stream",
     "text": [
      "Epoch:  92%|█████████▏| 46/50 [00:30<00:02,  1.67it/s, loss=-2.03e+8]"
     ]
    },
    {
     "name": "stdout",
     "output_type": "stream",
     "text": [
      "Starting epoch 46\n",
      "Processing step 0\n",
      "Device of text_embedding: cuda:0\n",
      "Device of latents: cuda:0\n",
      "Device of noise: cuda:0\n"
     ]
    },
    {
     "name": "stderr",
     "output_type": "stream",
     "text": [
      "Epoch:  94%|█████████▍| 47/50 [00:30<00:01,  1.68it/s, loss=-9.15e+7]"
     ]
    },
    {
     "name": "stdout",
     "output_type": "stream",
     "text": [
      "Starting epoch 47\n",
      "Processing step 0\n",
      "Device of text_embedding: cuda:0\n",
      "Device of latents: cuda:0\n",
      "Device of noise: cuda:0\n"
     ]
    },
    {
     "name": "stderr",
     "output_type": "stream",
     "text": [
      "Epoch:  96%|█████████▌| 48/50 [00:31<00:01,  1.69it/s, loss=-1.53e+7]"
     ]
    },
    {
     "name": "stdout",
     "output_type": "stream",
     "text": [
      "Starting epoch 48\n",
      "Processing step 0\n",
      "Device of text_embedding: cuda:0\n",
      "Device of latents: cuda:0\n",
      "Device of noise: cuda:0\n"
     ]
    },
    {
     "name": "stderr",
     "output_type": "stream",
     "text": [
      "Epoch:  98%|█████████▊| 49/50 [00:31<00:00,  1.69it/s, loss=-1.65e+8]"
     ]
    },
    {
     "name": "stdout",
     "output_type": "stream",
     "text": [
      "Starting epoch 49\n",
      "Processing step 0\n",
      "Device of text_embedding: cuda:0\n",
      "Device of latents: cuda:0\n",
      "Device of noise: cuda:0\n"
     ]
    },
    {
     "name": "stderr",
     "output_type": "stream",
     "text": [
      "Epoch: 100%|██████████| 50/50 [00:32<00:00,  1.54it/s, loss=-5.57e+8]"
     ]
    },
    {
     "name": "stdout",
     "output_type": "stream",
     "text": [
      "Time : 32.55622520000907\n"
     ]
    },
    {
     "name": "stderr",
     "output_type": "stream",
     "text": [
      "\n"
     ]
    }
   ],
   "source": [
    "train()"
   ]
  }
 ],
 "metadata": {
  "kernelspec": {
   "display_name": "diffusion",
   "language": "python",
   "name": "python3"
  },
  "language_info": {
   "codemirror_mode": {
    "name": "ipython",
    "version": 3
   },
   "file_extension": ".py",
   "mimetype": "text/x-python",
   "name": "python",
   "nbconvert_exporter": "python",
   "pygments_lexer": "ipython3",
   "version": "3.10.11"
  }
 },
 "nbformat": 4,
 "nbformat_minor": 2
}
